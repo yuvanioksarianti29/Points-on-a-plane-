{
  "nbformat": 4,
  "nbformat_minor": 0,
  "metadata": {
    "colab": {
      "name": "3.4.1.14 Points on a plane.ipynb",
      "provenance": [],
      "collapsed_sections": []
    },
    "kernelspec": {
      "name": "python3",
      "display_name": "Python 3"
    },
    "language_info": {
      "name": "python"
    }
  },
  "cells": [
    {
      "cell_type": "markdown",
      "source": [
        "# **3.4.1.14 Points on a plane**"
      ],
      "metadata": {
        "id": "DT36wfKqJIWX"
      }
    },
    {
      "cell_type": "code",
      "execution_count": 3,
      "metadata": {
        "colab": {
          "base_uri": "https://localhost:8080/"
        },
        "id": "NY9aABZUHObE",
        "outputId": "8d51fe0f-e0be-46af-ef82-da43f1852937"
      },
      "outputs": [
        {
          "output_type": "stream",
          "name": "stdout",
          "text": [
            "1.4142135623730951\n",
            "1.4142135623730951\n"
          ]
        }
      ],
      "source": [
        "import math\n",
        "\n",
        "class Point:\n",
        "    def __init__(self, x=0.0, y=0.0):\n",
        "        self.__x = x\n",
        "        self.__y = y\n",
        "\n",
        "    def getx(self):\n",
        "        return self.__x\n",
        "\n",
        "    def gety(self):\n",
        "        return self.__y\n",
        "\n",
        "    def distance_from_xy(self, x, y): \n",
        "        return math.hypot(self.__x - x, self.__y - y)\n",
        "\n",
        "    def distance_from_point(self, point):\n",
        "        return self.distance_from_xy(point.getx(), point.gety())\n",
        "\n",
        "point1 = Point(0, 0)\n",
        "point2 = Point(1, 1)\n",
        "print(point1.distance_from_point(point2))\n",
        "print(point2.distance_from_xy(2, 0))"
      ]
    }
  ]
}